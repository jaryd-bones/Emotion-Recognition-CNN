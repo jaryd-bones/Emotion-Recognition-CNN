{
 "cells": [
  {
   "cell_type": "code",
   "execution_count": 1,
   "metadata": {},
   "outputs": [],
   "source": [
    "import torch\n",
    "import pandas as pd\n",
    "import os\n",
    "from torchvision import transforms\n",
    "from EmotionDataset import EmotionDataset, get_transform\n",
    "from EmotionCNN import EmotionCNN\n",
    "import torch.nn as nn\n",
    "from torch.utils.data import DataLoader\n",
    "from torch.optim import Adam\n",
    "from sklearn.model_selection import train_test_split"
   ]
  },
  {
   "cell_type": "code",
   "execution_count": 2,
   "metadata": {},
   "outputs": [],
   "source": [
    "# Load and prepare the dataset\n",
    "dataset_path = os.path.join(os.getcwd(), 'data')\n",
    "labels_path = os.path.join(dataset_path, 'labels.csv')\n",
    "df = pd.read_csv(labels_path)\n",
    "\n",
    "df['label'] = df['pth'].apply(lambda x: x.split('/')[0])\n",
    "df['pth'] = df['pth'].apply(lambda x: os.path.join(dataset_path, x))\n",
    "one_hot_encoded_df = pd.get_dummies(df['label']).astype(int)\n",
    "df = pd.concat([df.drop('label', axis=1), one_hot_encoded_df], axis=1)\n",
    "df = df.sample(frac=1, random_state=42).reset_index(drop=True)\n",
    "df.drop(columns=['Unnamed: 0'], inplace=True)\n",
    "df.drop(columns=['relFCs'], inplace=True)\n",
    "train_df, test_df = train_test_split(df, test_size=0.2, random_state=42)"
   ]
  },
  {
   "cell_type": "code",
   "execution_count": 3,
   "metadata": {},
   "outputs": [],
   "source": [
    "# Create the datasets\n",
    "transform = get_transform()\n",
    "train_dataset = EmotionDataset(train_df, transform)"
   ]
  },
  {
   "cell_type": "code",
   "execution_count": 4,
   "metadata": {},
   "outputs": [],
   "source": [
    "# Set up the model and training parameters\n",
    "device = torch.device(\"cuda\" if torch.cuda.is_available() else \"cpu\")\n",
    "model = EmotionCNN().to(device)\n",
    "criterion = nn.BCEWithLogitsLoss()  # Changed loss function for one-hot encoded labels\n",
    "optimizer = Adam(model.parameters(), lr=0.001)"
   ]
  },
  {
   "cell_type": "code",
   "execution_count": 5,
   "metadata": {},
   "outputs": [],
   "source": [
    "# DataLoader with custom collate function for handling tensor operations\n",
    "train_loader = DataLoader(train_dataset, batch_size=32, shuffle=True)"
   ]
  },
  {
   "cell_type": "code",
   "execution_count": 8,
   "metadata": {},
   "outputs": [
    {
     "name": "stdout",
     "output_type": "stream",
     "text": [
      "Epoch [1/10], Loss: 0.2066\n",
      "Epoch [2/10], Loss: 0.2438\n",
      "Epoch [3/10], Loss: 0.1555\n",
      "Epoch [4/10], Loss: 0.1717\n",
      "Epoch [5/10], Loss: 0.1626\n",
      "Epoch [6/10], Loss: 0.0205\n",
      "Epoch [7/10], Loss: 0.0526\n",
      "Epoch [8/10], Loss: 0.0362\n",
      "Epoch [9/10], Loss: 0.0662\n",
      "Epoch [10/10], Loss: 0.0401\n"
     ]
    }
   ],
   "source": [
    "# Training loop\n",
    "num_epochs = 10\n",
    "for epoch in range(num_epochs):\n",
    "    for images, labels in train_loader:\n",
    "        images, labels = images.to(device), labels.to(device)\n",
    "        optimizer.zero_grad()\n",
    "        outputs = model(images)\n",
    "        loss = criterion(outputs, labels.float())\n",
    "        loss.backward()\n",
    "        optimizer.step()\n",
    "    print(f'Epoch [{epoch+1}/{num_epochs}], Loss: {loss.item():.4f}')"
   ]
  },
  {
   "cell_type": "code",
   "execution_count": 11,
   "metadata": {},
   "outputs": [],
   "source": [
    "torch.save(model, './models/emotionModel1')"
   ]
  }
 ],
 "metadata": {
  "kernelspec": {
   "display_name": "Python 3",
   "language": "python",
   "name": "python3"
  },
  "language_info": {
   "codemirror_mode": {
    "name": "ipython",
    "version": 3
   },
   "file_extension": ".py",
   "mimetype": "text/x-python",
   "name": "python",
   "nbconvert_exporter": "python",
   "pygments_lexer": "ipython3",
   "version": "3.10.14"
  }
 },
 "nbformat": 4,
 "nbformat_minor": 2
}
