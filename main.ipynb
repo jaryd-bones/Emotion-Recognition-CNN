{
 "cells": [
  {
   "cell_type": "markdown",
   "metadata": {},
   "source": [
    "## Imports"
   ]
  },
  {
   "cell_type": "code",
   "execution_count": 1,
   "metadata": {},
   "outputs": [],
   "source": [
    "import torch\n",
    "import pandas as pd\n",
    "import os\n",
    "from torchvision import transforms\n",
    "from EmotionDataset import EmotionDataset, get_transform\n",
    "from EmotionCNN import EmotionCNN\n",
    "import torch.nn as nn\n",
    "from torch.utils.data import DataLoader\n",
    "from torch.optim import Adam\n",
    "from sklearn.model_selection import train_test_split\n",
    "from sklearn.metrics import precision_score, recall_score, f1_score, confusion_matrix, accuracy_score, classification_report\n",
    "import seaborn as sns\n",
    "import matplotlib.pyplot as plt\n",
    "from imblearn.over_sampling import RandomOverSampler\n",
    "from torchvision.transforms import (\n",
    "    RandomHorizontalFlip,\n",
    "    RandomRotation,\n",
    "    RandomAdjustSharpness,\n",
    "    ToTensor,\n",
    "    RandomResizedCrop,\n",
    "    ColorJitter\n",
    ")"
   ]
  },
  {
   "cell_type": "markdown",
   "metadata": {},
   "source": [
    "## Data Preprocessing"
   ]
  },
  {
   "cell_type": "code",
   "execution_count": 2,
   "metadata": {},
   "outputs": [],
   "source": [
    "# Load and prepare the dataset\n",
    "dataset_path = os.path.join(os.getcwd(), 'data')\n",
    "labels_path = os.path.join(dataset_path, 'labels.csv')\n",
    "df = pd.read_csv(labels_path)\n",
    "\n",
    "df['label'] = df['pth'].apply(lambda x: x.split('/')[0])\n",
    "label_to_int = {label: idx for idx, label in enumerate(df['label'].unique())}\n",
    "int_to_label = {v: k for k, v in label_to_int.items()}\n",
    "df['label'] = df['label'].map(label_to_int)\n",
    "df['pth'] = df['pth'].apply(lambda x: os.path.join(dataset_path, x))\n",
    "df = df[['pth', 'label']]  # Only use path and integer label\n",
    "\n",
    "df = df.sample(frac=1, random_state=42).reset_index(drop=True)\n",
    "train_df, test_df = train_test_split(df, test_size=0.2, random_state=42)"
   ]
  },
  {
   "cell_type": "code",
   "execution_count": 3,
   "metadata": {},
   "outputs": [
    {
     "name": "stdout",
     "output_type": "stream",
     "text": [
      "                                                 pth  label\n",
      "0  c:\\Users\\jaryd\\OneDrive\\Coding Projects\\ECS174...      2\n",
      "1  c:\\Users\\jaryd\\OneDrive\\Coding Projects\\ECS174...      0\n",
      "2  c:\\Users\\jaryd\\OneDrive\\Coding Projects\\ECS174...      3\n",
      "3  c:\\Users\\jaryd\\OneDrive\\Coding Projects\\ECS174...      2\n",
      "4  c:\\Users\\jaryd\\OneDrive\\Coding Projects\\ECS174...      3\n"
     ]
    }
   ],
   "source": [
    "print(df.head())"
   ]
  },
  {
   "cell_type": "markdown",
   "metadata": {},
   "source": [
    "### Class Distributions"
   ]
  },
  {
   "cell_type": "code",
   "execution_count": 4,
   "metadata": {},
   "outputs": [],
   "source": [
    "# Create a DataFrame to display the distributions with label names\n",
    "train_dist = train_df['label'].value_counts().reset_index()\n",
    "train_dist.columns = ['label', 'count']\n",
    "train_dist['emotion'] = train_dist['label'].map(int_to_label)\n",
    "\n",
    "test_dist = test_df['label'].value_counts().reset_index()\n",
    "test_dist.columns = ['label', 'count']\n",
    "test_dist['emotion'] = test_dist['label'].map(int_to_label)"
   ]
  },
  {
   "cell_type": "code",
   "execution_count": 5,
   "metadata": {},
   "outputs": [
    {
     "name": "stdout",
     "output_type": "stream",
     "text": [
      "Training set class distribution before oversampling:\n",
      "\n",
      "   label   emotion  count\n",
      "0      5   neutral   4089\n",
      "1      4     happy   4016\n",
      "2      7  surprise   3141\n",
      "3      0     anger   2447\n",
      "4      3      fear   2372\n",
      "5      6       sad   2344\n",
      "6      1  contempt   2216\n",
      "7      2   disgust   1915\n",
      "\n",
      "--------------------------------------------\n",
      "\n",
      "Testing set class distribution:\n",
      "\n",
      "   label   emotion  count\n",
      "0      4     happy   1027\n",
      "1      5   neutral   1025\n",
      "2      7  surprise    796\n",
      "3      3      fear    607\n",
      "4      6       sad    590\n",
      "5      0     anger    587\n",
      "6      1  contempt    541\n",
      "7      2   disgust    462\n"
     ]
    }
   ],
   "source": [
    "# Print Distributions\n",
    "print(\"Training set class distribution before oversampling:\\n\")\n",
    "print(train_dist[['label', 'emotion', 'count']])\n",
    "print(\"\\n--------------------------------------------\")\n",
    "print(\"\\nTesting set class distribution:\\n\")\n",
    "print(test_dist[['label', 'emotion', 'count']])"
   ]
  },
  {
   "cell_type": "code",
   "execution_count": 6,
   "metadata": {},
   "outputs": [],
   "source": [
    "# Use GPU if possible\n",
    "device = torch.device(\"cuda\" if torch.cuda.is_available() else \"cpu\")"
   ]
  },
  {
   "cell_type": "code",
   "execution_count": 7,
   "metadata": {},
   "outputs": [],
   "source": [
    "# Oversample minority classes\n",
    "ros = RandomOverSampler(random_state=42)\n",
    "X_train = train_df['pth'].values.reshape(-1, 1)\n",
    "y_train = train_df['label'].values\n",
    "X_resampled, y_resampled = ros.fit_resample(X_train, y_train)\n",
    "\n",
    "# Convert back to DataFrame\n",
    "train_resampled_df = pd.DataFrame({\n",
    "    'pth': X_resampled.flatten(),\n",
    "    'label': y_resampled\n",
    "})"
   ]
  },
  {
   "cell_type": "markdown",
   "metadata": {},
   "source": [
    "### Class Distributions After Oversampling"
   ]
  },
  {
   "cell_type": "code",
   "execution_count": 8,
   "metadata": {},
   "outputs": [
    {
     "name": "stdout",
     "output_type": "stream",
     "text": [
      "\n",
      "Training set class distribution after oversampling:\n",
      "\n",
      "   label   emotion  count\n",
      "0      2   disgust   4089\n",
      "1      7  surprise   4089\n",
      "2      0     anger   4089\n",
      "3      5   neutral   4089\n",
      "4      4     happy   4089\n",
      "5      3      fear   4089\n",
      "6      1  contempt   4089\n",
      "7      6       sad   4089\n"
     ]
    }
   ],
   "source": [
    "# Print the distribution after oversampling\n",
    "train_resampled_dist = train_resampled_df['label'].value_counts().reset_index()\n",
    "train_resampled_dist.columns = ['label', 'count']\n",
    "train_resampled_dist['emotion'] = train_resampled_dist['label'].map(int_to_label)\n",
    "\n",
    "print(\"\\nTraining set class distribution after oversampling:\\n\")\n",
    "print(train_resampled_dist[['label', 'emotion', 'count']])"
   ]
  },
  {
   "cell_type": "code",
   "execution_count": 9,
   "metadata": {},
   "outputs": [],
   "source": [
    "# Transform for the first epoch\n",
    "transform_initial = get_transform()\n",
    "\n",
    "# Data augmentation for epochs after first\n",
    "transform_augmented = transforms.Compose([\n",
    "    RandomHorizontalFlip(),\n",
    "    RandomRotation(20),\n",
    "    RandomResizedCrop(96, scale=(0.8, 1.0)),\n",
    "    ColorJitter(brightness=0.2, contrast=0.2, saturation=0.2, hue=0.2),\n",
    "    RandomAdjustSharpness(2),\n",
    "    ToTensor()\n",
    "])"
   ]
  },
  {
   "cell_type": "code",
   "execution_count": 10,
   "metadata": {},
   "outputs": [],
   "source": [
    "# Create the datasets\n",
    "train_dataset = EmotionDataset(train_resampled_df, transform_initial)\n",
    "test_dataset = EmotionDataset(test_df, get_transform())"
   ]
  },
  {
   "cell_type": "code",
   "execution_count": 11,
   "metadata": {},
   "outputs": [],
   "source": [
    "# DataLoaders\n",
    "train_loader = DataLoader(train_dataset, batch_size=64, shuffle=True)\n",
    "test_loader = DataLoader(test_dataset, batch_size=64, shuffle=False)"
   ]
  },
  {
   "cell_type": "code",
   "execution_count": 12,
   "metadata": {},
   "outputs": [],
   "source": [
    "# Initialize the model, optimizer, and criterion\n",
    "model = EmotionCNN().to(device)\n",
    "criterion = nn.CrossEntropyLoss()\n",
    "optimizer = Adam(model.parameters(), lr=0.001)"
   ]
  },
  {
   "cell_type": "code",
   "execution_count": 13,
   "metadata": {},
   "outputs": [],
   "source": [
    "def calculate_accuracy(outputs, labels):\n",
    "    _, predictions = torch.max(outputs, 1)\n",
    "    return (predictions == labels).float().mean().item()"
   ]
  },
  {
   "cell_type": "markdown",
   "metadata": {},
   "source": [
    "## Model Training"
   ]
  },
  {
   "cell_type": "code",
   "execution_count": 14,
   "metadata": {},
   "outputs": [
    {
     "name": "stdout",
     "output_type": "stream",
     "text": [
      "Epoch [1/15], Loss: 1.5084, Training Accuracy: 0.5083, Testing Accuracy: 0.5279\n"
     ]
    }
   ],
   "source": [
    "# Lists to store metrics\n",
    "train_losses = []\n",
    "train_accuracies = []\n",
    "test_accuracies = []\n",
    "\n",
    "# Variables to store the best model\n",
    "best_test_accuracy = 0.0\n",
    "best_model_path = './models/best_model'\n",
    "best_epoch = 0\n",
    "\n",
    "# Training loop\n",
    "num_epochs = 15\n",
    "for epoch in range(num_epochs):\n",
    "    model.train()\n",
    "    epoch_loss = 0\n",
    "    \n",
    "    # Update the transform after the first epoch\n",
    "    if epoch > 0:\n",
    "        train_dataset.transform = transform_augmented\n",
    "    \n",
    "    for images, labels in train_loader:\n",
    "        images, labels = images.to(device), labels.to(device)\n",
    "        optimizer.zero_grad()\n",
    "        outputs = model(images)\n",
    "        loss = criterion(outputs, labels)\n",
    "        loss.backward()\n",
    "        optimizer.step()\n",
    "        epoch_loss += loss.item()\n",
    "    \n",
    "    # Save training loss\n",
    "    train_losses.append(epoch_loss / len(train_loader))\n",
    "\n",
    "    # Evaluate on training set\n",
    "    model.eval()\n",
    "    train_accuracy = 0\n",
    "    with torch.no_grad():\n",
    "        for images, labels in train_loader:\n",
    "            images, labels = images.to(device), labels.to(device)\n",
    "            outputs = model(images)\n",
    "            train_accuracy += calculate_accuracy(outputs, labels)\n",
    "    train_accuracy /= len(train_loader)\n",
    "    train_accuracies.append(train_accuracy)\n",
    "    \n",
    "    # Evaluate on testing set\n",
    "    test_accuracy = 0\n",
    "    with torch.no_grad():\n",
    "        for images, labels in test_loader:\n",
    "            images, labels = images.to(device), labels.to(device)\n",
    "            outputs = model(images)\n",
    "            test_accuracy += calculate_accuracy(outputs, labels)\n",
    "    test_accuracy /= len(test_loader)\n",
    "    test_accuracies.append(test_accuracy)\n",
    "    \n",
    "    # Check if this is the best model so far\n",
    "    if test_accuracy > best_test_accuracy:\n",
    "        best_test_accuracy = test_accuracy\n",
    "        best_epoch = epoch\n",
    "        torch.save(model.state_dict(), best_model_path)  # Save model with the highest accuracy\n",
    "    \n",
    "    print(f'Epoch [{epoch+1}/{num_epochs}], Loss: {train_losses[-1]:.4f}, '\n",
    "          f'Training Accuracy: {train_accuracies[-1]:.4f}, Testing Accuracy: {test_accuracies[-1]:.4f}')"
   ]
  },
  {
   "cell_type": "markdown",
   "metadata": {},
   "source": [
    "## Model Evaluation"
   ]
  },
  {
   "cell_type": "markdown",
   "metadata": {},
   "source": [
    "### Loss and Accuracy"
   ]
  },
  {
   "cell_type": "code",
   "execution_count": null,
   "metadata": {},
   "outputs": [
    {
     "ename": "NameError",
     "evalue": "name 'num_epochs' is not defined",
     "output_type": "error",
     "traceback": [
      "\u001b[1;31m---------------------------------------------------------------------------\u001b[0m",
      "\u001b[1;31mNameError\u001b[0m                                 Traceback (most recent call last)",
      "Cell \u001b[1;32mIn[31], line 2\u001b[0m\n\u001b[0;32m      1\u001b[0m \u001b[38;5;66;03m# Plot model evaluation\u001b[39;00m\n\u001b[1;32m----> 2\u001b[0m epochs \u001b[38;5;241m=\u001b[39m \u001b[38;5;28mrange\u001b[39m(\u001b[38;5;241m1\u001b[39m, \u001b[43mnum_epochs\u001b[49m \u001b[38;5;241m+\u001b[39m \u001b[38;5;241m1\u001b[39m)\n\u001b[0;32m      4\u001b[0m plt\u001b[38;5;241m.\u001b[39mfigure(figsize\u001b[38;5;241m=\u001b[39m(\u001b[38;5;241m12\u001b[39m, \u001b[38;5;241m4\u001b[39m))\n\u001b[0;32m      6\u001b[0m plt\u001b[38;5;241m.\u001b[39msubplot(\u001b[38;5;241m1\u001b[39m, \u001b[38;5;241m3\u001b[39m, \u001b[38;5;241m1\u001b[39m)\n",
      "\u001b[1;31mNameError\u001b[0m: name 'num_epochs' is not defined"
     ]
    }
   ],
   "source": [
    "# Plot model evaluation\n",
    "epochs = range(1, num_epochs + 1)\n",
    "\n",
    "plt.figure(figsize=(12, 4))\n",
    "\n",
    "plt.subplot(1, 3, 1)\n",
    "plt.plot(epochs, train_losses, label='Training Loss')\n",
    "plt.scatter(best_epoch + 1, train_losses[best_epoch], color='red', label='Best Accuracy', zorder=5)\n",
    "plt.title('Training Loss')\n",
    "plt.xlabel('Epoch')\n",
    "plt.ylabel('Loss')\n",
    "plt.legend()\n",
    "\n",
    "plt.subplot(1, 3, 2)\n",
    "plt.plot(epochs, train_accuracies, label='Training Accuracy')\n",
    "plt.scatter(best_epoch + 1, train_accuracies[best_epoch], color='red', label='Best Accuracy', zorder=5)\n",
    "plt.title('Training Accuracy')\n",
    "plt.xlabel('Epoch')\n",
    "plt.ylabel('Accuracy')\n",
    "plt.legend()\n",
    "\n",
    "plt.subplot(1, 3, 3)\n",
    "plt.plot(epochs, test_accuracies, label='Testing Accuracy')\n",
    "plt.scatter(best_epoch + 1, test_accuracies[best_epoch], color='red', label='Best Model', zorder=5)\n",
    "plt.title('Testing Accuracy')\n",
    "plt.xlabel('Epoch')\n",
    "plt.ylabel('Accuracy')\n",
    "plt.legend()\n",
    "\n",
    "plt.tight_layout()\n",
    "plt.show()"
   ]
  },
  {
   "cell_type": "code",
   "execution_count": null,
   "metadata": {},
   "outputs": [],
   "source": [
    "# Save model\n",
    "#torch.save(model, './models/emotionModel4')"
   ]
  },
  {
   "cell_type": "code",
   "execution_count": null,
   "metadata": {},
   "outputs": [
    {
     "data": {
      "text/plain": [
       "EmotionCNN(\n",
       "  (conv1): Conv2d(3, 16, kernel_size=(3, 3), stride=(1, 1), padding=(1, 1))\n",
       "  (pool): MaxPool2d(kernel_size=2, stride=2, padding=0, dilation=1, ceil_mode=False)\n",
       "  (conv2): Conv2d(16, 32, kernel_size=(3, 3), stride=(1, 1), padding=(1, 1))\n",
       "  (conv3): Conv2d(32, 64, kernel_size=(3, 3), stride=(1, 1), padding=(1, 1))\n",
       "  (fc1): Linear(in_features=9216, out_features=512, bias=True)\n",
       "  (fc2): Linear(in_features=512, out_features=8, bias=True)\n",
       "  (dropout): Dropout(p=0.25, inplace=False)\n",
       ")"
      ]
     },
     "execution_count": 42,
     "metadata": {},
     "output_type": "execute_result"
    }
   ],
   "source": [
    "# Load model\n",
    "model_path = './models/model5'\n",
    "loaded_model = EmotionCNN().to(device)\n",
    "loaded_model.load_state_dict(torch.load(model_path, map_location=device))\n",
    "loaded_model.eval()"
   ]
  },
  {
   "cell_type": "code",
   "execution_count": null,
   "metadata": {},
   "outputs": [],
   "source": [
    "# Get the list of class names from the columns\n",
    "class_names = [int_to_label[i] for i in range(len(int_to_label))]\n",
    "\n",
    "# Evaluate on testing set and get predictions\n",
    "all_labels = []\n",
    "all_predictions = []\n",
    "\n",
    "with torch.no_grad():\n",
    "    for images, labels in test_loader:\n",
    "        images, labels = images.to(device), labels.to(device)\n",
    "        outputs = loaded_model(images)\n",
    "        _, predictions = torch.max(outputs, 1)\n",
    "        all_predictions.extend(predictions.cpu().numpy())\n",
    "        all_labels.extend(labels.cpu().numpy())"
   ]
  },
  {
   "cell_type": "code",
   "execution_count": null,
   "metadata": {},
   "outputs": [],
   "source": [
    "# Calculate precision, recall, f1 score\n",
    "precision = precision_score(all_labels, all_predictions, average='weighted', zero_division=1)\n",
    "recall = recall_score(all_labels, all_predictions, average='weighted', zero_division=1)\n",
    "f1 = f1_score(all_labels, all_predictions, average='weighted', zero_division=1)\n",
    "final_test_accuracy = accuracy_score(all_labels, all_predictions)\n",
    "conf_matrix = confusion_matrix(all_labels, all_predictions)"
   ]
  },
  {
   "cell_type": "markdown",
   "metadata": {},
   "source": [
    "### More Evaluation Metrics"
   ]
  },
  {
   "cell_type": "code",
   "execution_count": null,
   "metadata": {},
   "outputs": [
    {
     "name": "stdout",
     "output_type": "stream",
     "text": [
      "Precision: 0.6516\n",
      "Recall: 0.6508\n",
      "F1 Score: 0.6493\n",
      "Test Accuracy: 0.6508\n"
     ]
    }
   ],
   "source": [
    "print(f'Precision: {precision:.4f}')\n",
    "print(f'Recall: {recall:.4f}')\n",
    "print(f'F1 Score: {f1:.4f}')\n",
    "print(f'Test Accuracy: {final_test_accuracy:.4f}')"
   ]
  },
  {
   "cell_type": "markdown",
   "metadata": {},
   "source": [
    "### Classification Report"
   ]
  },
  {
   "cell_type": "code",
   "execution_count": null,
   "metadata": {},
   "outputs": [
    {
     "name": "stdout",
     "output_type": "stream",
     "text": [
      "              precision    recall  f1-score   support\n",
      "\n",
      "       anger       0.45      0.52      0.48       587\n",
      "    contempt       0.56      0.65      0.60       541\n",
      "     disgust       0.42      0.43      0.42       462\n",
      "        fear       0.55      0.48      0.52       607\n",
      "       happy       0.92      0.89      0.90      1027\n",
      "     neutral       0.85      0.89      0.87      1025\n",
      "         sad       0.52      0.40      0.45       590\n",
      "    surprise       0.57      0.58      0.58       796\n",
      "\n",
      "    accuracy                           0.65      5635\n",
      "   macro avg       0.60      0.60      0.60      5635\n",
      "weighted avg       0.65      0.65      0.65      5635\n",
      "\n"
     ]
    }
   ],
   "source": [
    "# Print classification report for detailed insights\n",
    "print(classification_report(all_labels, all_predictions, target_names=class_names, zero_division=1))"
   ]
  },
  {
   "cell_type": "markdown",
   "metadata": {},
   "source": [
    "### Confusion Matrix"
   ]
  },
  {
   "cell_type": "code",
   "execution_count": null,
   "metadata": {},
   "outputs": [
    {
     "data": {
      "image/png": "[encoded data removed]",
      "text/plain": [
       "<Figure size 1000x800 with 2 Axes>"
      ]
     },
     "metadata": {},
     "output_type": "display_data"
    }
   ],
   "source": [
    "# Plot confusion matrix\n",
    "plt.figure(figsize=(10, 8))\n",
    "sns.heatmap(conf_matrix, annot=True, fmt='d', cmap='Blues', xticklabels=class_names, yticklabels=class_names)\n",
    "plt.xlabel('Predicted')\n",
    "plt.ylabel('Actual')\n",
    "plt.title('Confusion Matrix')\n",
    "plt.show()"
   ]
  }
 ],
 "metadata": {
  "kernelspec": {
   "display_name": "Python 3",
   "language": "python",
   "name": "python3"
  },
  "language_info": {
   "codemirror_mode": {
    "name": "ipython",
    "version": 3
   },
   "file_extension": ".py",
   "mimetype": "text/x-python",
   "name": "python",
   "nbconvert_exporter": "python",
   "pygments_lexer": "ipython3",
   "version": "3.10.14"
  }
 },
 "nbformat": 4,
 "nbformat_minor": 2
}
